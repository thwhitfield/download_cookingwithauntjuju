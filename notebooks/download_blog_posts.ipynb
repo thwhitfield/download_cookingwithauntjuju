{
 "cells": [
  {
   "cell_type": "code",
   "execution_count": 4,
   "id": "19328aba-847d-43a7-9c8c-36ac665beee2",
   "metadata": {},
   "outputs": [],
   "source": [
    "import pdfkit\n",
    "import os\n",
    "from pathlib import Path"
   ]
  },
  {
   "cell_type": "code",
   "execution_count": 13,
   "id": "97d3c8c6-7a65-40b9-993d-975a1fb0045d",
   "metadata": {},
   "outputs": [],
   "source": [
    "import requests\n",
    "from bs4 import BeautifulSoup"
   ]
  },
  {
   "cell_type": "code",
   "execution_count": 5,
   "id": "dcf3e802-963b-436b-8f2e-bd49366f9d38",
   "metadata": {},
   "outputs": [],
   "source": [
    "path_wkhtmltopdf = r'C:\\Program Files\\wkhtmltopdf\\bin\\wkhtmltopdf.exe'\n",
    "config = pdfkit.configuration(wkhtmltopdf=path_wkhtmltopdf)"
   ]
  },
  {
   "cell_type": "code",
   "execution_count": 6,
   "id": "a2e8cec0-d6d2-4d59-a639-11cc164a090c",
   "metadata": {},
   "outputs": [],
   "source": [
    "# paths\n",
    "data_dir = '../data/'"
   ]
  },
  {
   "cell_type": "code",
   "execution_count": 7,
   "id": "76c1aca2-33c5-494a-aafd-a823132c771c",
   "metadata": {},
   "outputs": [],
   "source": [
    "def get_blog_links():\n",
    "    \n",
    "    # TODO: crawl Aunt Jujus webiste to pull all of the individual blog links\n",
    "    link_list = [\n",
    "        'https://cookingwithauntjuju.com/2011/11/29/horseradish-cream-with-roasted-garlic/',\n",
    "        'https://cookingwithauntjuju.com/2011/11/29/chocolate-fudge-cookies/',\n",
    "        'https://cookingwithauntjuju.com/2011/11/29/slow-cooker-reuben-dip/',\n",
    "        'https://cookingwithauntjuju.com/2011/11/29/roasted-garlic/',\n",
    "        'https://cookingwithauntjuju.com/2011/11/29/big-mac-special-sauce/',\n",
    "        'https://cookingwithauntjuju.com/2011/11/29/red-rice-on-the-grill/',\n",
    "        'https://cookingwithauntjuju.com/2011/11/29/black-bean-sauce/',\n",
    "        'https://cookingwithauntjuju.com/2011/11/29/madeira-sauce/',\n",
    "        'https://cookingwithauntjuju.com/2011/11/28/baked-cheese-grits/',\n",
    "        'https://cookingwithauntjuju.com/2011/11/28/lemon-chicken-with-onions-and-potatoes/'\n",
    "    ]\n",
    "\n",
    "    return(link_list)"
   ]
  },
  {
   "cell_type": "code",
   "execution_count": 14,
   "id": "8ac5ac0c-1fde-41e2-9d26-00d88b2cea40",
   "metadata": {},
   "outputs": [
    {
     "name": "stdout",
     "output_type": "stream",
     "text": [
      "#content\n",
      "https://cookingwithauntjuju.com/\n",
      "https://cookingwithauntjuju.com/about/\n",
      "https://cookingwithauntjuju.com/\n",
      "https://cookingwithauntjuju.com/\n",
      "https://cookingwithauntjuju.com/2011/11/29/horseradish-cream-with-roasted-garlic/\n",
      "https://cookingwithauntjuju.com/2011/12/01/genes-grilled-steak/\n",
      "https://cookingwithauntjuju.com/2011/12/09/beef-wellington/\n",
      "#\n",
      "https://cookingwithauntjuju.com/2011/11/29/horseradish-crea…h-roasted-garlic/ \n",
      "https://jujuskitchen.files.wordpress.com/2011/11/dsc_5475.jpg\n",
      "https://jujuskitchen.files.wordpress.com/2011/11/dsc_5508.jpg\n",
      "https://jujuskitchen.files.wordpress.com/2011/11/dsc_5504.jpg\n",
      "https://jujuskitchen.files.wordpress.com/2011/11/dsc_5510.jpg\n",
      "https://jujuskitchen.files.wordpress.com/2011/11/dsc_5516.jpg\n",
      "https://jujuskitchen.files.wordpress.com/2011/11/dsc_5518.jpg\n",
      "https://jujuskitchen.files.wordpress.com/2011/11/dsc_5519.jpg\n",
      "https://jujuskitchen.files.wordpress.com/2011/11/dsc_5522-001.jpg\n",
      "#\n",
      "https://cookingwithauntjuju.com/2011/11/29/horseradish-crea…h-roasted-garlic/ \n",
      "https://jujuskitchen.files.wordpress.com/2011/11/dsc_1787.jpg\n",
      "https://jujuskitchen.files.wordpress.com/2011/11/dsc_1788.jpg\n",
      "https://jujuskitchen.files.wordpress.com/2011/11/dsc_1790.jpg\n",
      "#\n",
      "https://cookingwithauntjuju.com/2011/11/29/horseradish-crea…h-roasted-garlic/ \n",
      "https://jujuskitchen.files.wordpress.com/2011/11/dsc_4817-e1499251137425.jpg\n",
      "#\n",
      "https://cookingwithauntjuju.com/2011/11/29/horseradish-crea…h-roasted-garlic/ \n",
      "https://cookingwithauntjuju.com/2011/11/29/horseradish-cream-with-roasted-garlic/?share=twitter\n",
      "https://cookingwithauntjuju.com/2011/11/29/horseradish-cream-with-roasted-garlic/?share=facebook\n",
      "https://cookingwithauntjuju.com/2011/11/29/horseradish-cream-with-roasted-garlic/?share=pinterest\n",
      "https://cookingwithauntjuju.com/2011/11/29/horseradish-cream-with-roasted-garlic/#print\n",
      "None\n",
      "https://cookingwithauntjuju.com/category/main-dishes/beef-main-dishes/\n",
      "https://cookingwithauntjuju.com/category/sauces/\n",
      "https://cookingwithauntjuju.com/category/vegetables-2/\n",
      "https://cookingwithauntjuju.com/tag/filet-mignon/\n",
      "https://cookingwithauntjuju.com/tag/heavy-cream/\n",
      "https://cookingwithauntjuju.com/tag/horseradish-cream/\n",
      "https://cookingwithauntjuju.com/tag/roasted-garlic/\n",
      "https://cookingwithauntjuju.com/2011/11/29/chocolate-fudge-cookies/\n",
      "https://cookingwithauntjuju.com/2011/12/01/gingerbread-men-2/\n",
      "/2011/11/29/horseradish-cream-with-roasted-garlic/#respond\n",
      "#comment-form-guest\n",
      "#comment-form-load-service:WordPress.com\n",
      "#comment-form-load-service:Twitter\n",
      "#comment-form-load-service:Facebook\n",
      "https://gravatar.com/site/signup/\n",
      "javascript:HighlanderComments.doExternalLogout( 'wordpress' );\n",
      "#\n",
      "javascript:HighlanderComments.doExternalLogout( 'googleplus' );\n",
      "#\n",
      "javascript:HighlanderComments.doExternalLogout( 'twitter' );\n",
      "#\n",
      "javascript:HighlanderComments.doExternalLogout( 'facebook' );\n",
      "#\n",
      "javascript:HighlanderComments.cancelExternalWindow();\n",
      "https://akismet.com/privacy/\n",
      "https://cookingwithauntjuju.com/about/\n",
      "https://cookingwithauntjuju.com/2021/12/08/sweet-and-spicy-roasted-cauliflower/\n",
      "https://cookingwithauntjuju.com/2021/12/04/pumpkin-pie-using-egg-beaters/\n",
      "https://cookingwithauntjuju.com/2021/12/01/cranberry-lemon-cookies/\n",
      "https://cookingwithauntjuju.com/2021/11/26/old-magazine-recipes/\n",
      "https://cookingwithauntjuju.com/2021/11/24/green-bean-casserole-with-fried-jalapenos/\n",
      "https://cookingwithauntjuju.com/2021/11/18/friendsgiving-fall-board/\n",
      "https://cookingwithauntjuju.com/2021/11/11/brown-lentils-and-bulgur-with-caramelized-onions/\n",
      "https://cookingwithauntjuju.com/2021/11/06/mark-bittermans-chicken-piccata-with-lemon-flake-salt/\n",
      "https://cookingwithauntjuju.com/2021/10/31/pizza-skulls/\n",
      "https://cookingwithauntjuju.com/2021/10/27/apple-butter-cheese-straws/\n",
      "https://cookingwithauntjuju.com\n",
      "https://cookingwithauntjuju.com/2015/02/27/chocolate-tart/dsc_5583/#main\n",
      "https://cookingwithauntjuju.com/2018/03/03/homemade-edible-bread/dsc_3020/#main\n",
      "https://cookingwithauntjuju.com/2018/02/09/hasselback-sweet/dsc_2717/#main\n",
      "https://cookingwithauntjuju.com/2018/04/12/chicken-chimichangas-with-a-green/dsc_3164/#main\n",
      "https://cookingwithauntjuju.com/2018/04/20/korean-style/dsc_3357/#main\n",
      "https://cookingwithauntjuju.com/2018/06/28/fresh-fruit-with-a-citrus-dressing/dsc_3852-4/#main\n",
      "https://cookingwithauntjuju.com/2018/05/29/bulgogi-wraps-korean/dsc_3653/#main\n",
      "https://cookingwithauntjuju.com/2018/07/05/caprese-salad-and-fruit-skewers/dsc_3930/#main\n",
      "https://cookingwithauntjuju.com/2011/11/26/fruit-garland-for-a-turkey/img_0947/#main\n",
      "https://cookingwithauntjuju.com/2018/11/14/pizzelles-with-maple-sugar/dsc_4395-2/#main\n",
      "https://cookingwithauntjuju.com/2018/10/09/nasturtium-vinegar-with/dsc_4642/#main\n",
      "https://cookingwithauntjuju.com/2018/09/07/pimms-cooler-with/dsc_4267-3/#main\n",
      "https://cookingwithauntjuju.com/2018/09/28/orange-blossom-honeycomb/dsc_4553/#main\n",
      "https://cookingwithauntjuju.com/2018/09/17/korean-beef-noodles/dsc_4469-2/#main\n",
      "https://cookingwithauntjuju.com/2018/08/08/greek-salad-with-a/dsc_4148/#main\n",
      "https://wordpress.com/?ref=footer_blog\n",
      "\n",
      "\n",
      "https://cookingwithauntjuju.com\n",
      "https://wordpress.com/log-in?redirect_to=https%3A%2F%2Fr-login.wordpress.com%2Fremote-login.php%3Faction%3Dlink%26back%3Dhttps%253A%252F%252Fcookingwithauntjuju.com%252F2011%252F11%252F29%252Fhorseradish-cream-with-roasted-garlic%252F\n",
      "https://cookingwithauntjuju.com\n",
      "https://jujuskitchen.wordpress.com/wp-admin/customize.php?url=https%3A%2F%2Fjujuskitchen.wordpress.com%2F2011%2F11%2F29%2Fhorseradish-cream-with-roasted-garlic%2F\n",
      "\n",
      "\n",
      "https://wordpress.com/start/\n",
      "https://wordpress.com/log-in?redirect_to=https%3A%2F%2Fr-login.wordpress.com%2Fremote-login.php%3Faction%3Dlink%26back%3Dhttps%253A%252F%252Fcookingwithauntjuju.com%252F2011%252F11%252F29%252Fhorseradish-cream-with-roasted-garlic%252F\n",
      "https://wp.me/p1Y1Pc-da\n",
      "http://en.wordpress.com/abuse/\n",
      "https://wordpress.com/read/blogs/29083034/posts/816\n",
      "https://subscribe.wordpress.com/\n",
      "\n",
      "#\n",
      "#\n",
      "None\n"
     ]
    }
   ],
   "source": [
    "url = 'https://cookingwithauntjuju.com/2011/11/29/horseradish-cream-with-roasted-garlic/'\n",
    "\n",
    "def get_links(url):\n",
    "    pass\n",
    "\n",
    "reqs = requests.get(url)\n",
    "soup = BeautifulSoup(reqs.text, 'html.parser')\n",
    "\n",
    "urls = []\n",
    "for link in soup.find_all('a'):\n",
    "    print(link.get('href'))"
   ]
  },
  {
   "cell_type": "code",
   "execution_count": 9,
   "id": "094713e3-f57a-4046-b9d6-61853e6c38fd",
   "metadata": {},
   "outputs": [],
   "source": [
    "def download_pdf(link, output_dir):\n",
    "\n",
    "    year, month, day, name = link.split('/')[3:-1]\n",
    "    pdf_name = f'{year}_{month}_{day}_{name}.pdf'\n",
    "    pdf_path = os.path.join(output_dir, pdf_name)\n",
    "    # print(pdf_path)\n",
    "\n",
    "    options = {\n",
    "        \"print-media-type\":None\n",
    "    }\n",
    "    pdfkit.from_url(link, pdf_path, configuration = config, options = options)\n",
    "    \n",
    "    return"
   ]
  },
  {
   "cell_type": "code",
   "execution_count": 8,
   "id": "005aaf79-1221-45d1-af51-e612c2d8a048",
   "metadata": {},
   "outputs": [],
   "source": [
    "link_list = get_blog_links()"
   ]
  },
  {
   "cell_type": "code",
   "execution_count": 27,
   "id": "4a89c94f-054b-496f-ac17-bc3b98fa7c6e",
   "metadata": {},
   "outputs": [],
   "source": [
    "for link in link_list:\n",
    "    download_pdf(link, output_dir)"
   ]
  },
  {
   "cell_type": "code",
   "execution_count": null,
   "id": "123424ff-8b17-4493-9cf9-9da306431802",
   "metadata": {},
   "outputs": [],
   "source": []
  },
  {
   "cell_type": "code",
   "execution_count": null,
   "id": "a2cfbddb-8e9a-4c4a-8544-0b20f1374a41",
   "metadata": {},
   "outputs": [],
   "source": []
  },
  {
   "cell_type": "code",
   "execution_count": null,
   "id": "dba6a499-c3f2-415f-a2f4-57826e2e7ef9",
   "metadata": {},
   "outputs": [],
   "source": []
  },
  {
   "cell_type": "code",
   "execution_count": null,
   "id": "19205198-0c61-4b7f-935d-dab230ce9eab",
   "metadata": {},
   "outputs": [],
   "source": []
  },
  {
   "cell_type": "code",
   "execution_count": null,
   "id": "f9e23217-4de1-41d2-b254-f6f6dd5c4b96",
   "metadata": {},
   "outputs": [],
   "source": []
  },
  {
   "cell_type": "code",
   "execution_count": null,
   "id": "c564cdd2-3224-4dbd-be6e-c5d38f20046d",
   "metadata": {},
   "outputs": [],
   "source": []
  }
 ],
 "metadata": {
  "kernelspec": {
   "display_name": "download_cooking_env",
   "language": "python",
   "name": "download_cooking_env"
  },
  "language_info": {
   "codemirror_mode": {
    "name": "ipython",
    "version": 3
   },
   "file_extension": ".py",
   "mimetype": "text/x-python",
   "name": "python",
   "nbconvert_exporter": "python",
   "pygments_lexer": "ipython3",
   "version": "3.9.7"
  }
 },
 "nbformat": 4,
 "nbformat_minor": 5
}
